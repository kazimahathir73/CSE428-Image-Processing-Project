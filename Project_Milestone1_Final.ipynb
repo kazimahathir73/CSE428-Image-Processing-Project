{
  "cells": [
    {
      "cell_type": "code",
      "execution_count": 1,
      "metadata": {
        "id": "P9XNBTCfh52G"
      },
      "outputs": [],
      "source": [
        "import numpy as np\n",
        "from sklearn.model_selection import train_test_split\n",
        "from sklearn.linear_model import LogisticRegression\n",
        "from sklearn import preprocessing\n",
        "from tensorflow.keras.preprocessing.image import load_img, img_to_array\n",
        "from pathlib import Path\n",
        "from sklearn.metrics import confusion_matrix, accuracy_score, precision_score, recall_score, f1_score, classification_report"
      ]
    },
    {
      "cell_type": "code",
      "execution_count": 2,
      "metadata": {
        "colab": {
          "base_uri": "https://localhost:8080/"
        },
        "id": "yr79wvQ9h9gX",
        "outputId": "f696abfb-981b-4d38-ed97-4b6df7ac4000"
      },
      "outputs": [
        {
          "name": "stdout",
          "output_type": "stream",
          "text": [
            "Mounted at /content/drive\n"
          ]
        }
      ],
      "source": [
        "from google.colab import drive\n",
        "drive.mount('/content/drive')"
      ]
    },
    {
      "cell_type": "code",
      "execution_count": 49,
      "metadata": {
        "id": "sdt1lH2zh_Rb"
      },
      "outputs": [],
      "source": [
        "train_path = Path(\"/content/drive/MyDrive/1. 428_project/Group_1/Group_1/train\")\n",
        "test_path = Path(\"/content/drive/MyDrive/1. 428_project/Group_1/Group_1/test\")"
      ]
    },
    {
      "cell_type": "code",
      "execution_count": 50,
      "metadata": {
        "id": "kclDPA2gi_qm"
      },
      "outputs": [],
      "source": [
        "def load_images(folder_path):\n",
        "    images = [] # x\n",
        "    labels = [] # y\n",
        "    class_dict = {}\n",
        "\n",
        "    for sub_folder_path in folder_path.iterdir():\n",
        "        if sub_folder_path.is_dir():\n",
        "            class_name = sub_folder_path.name\n",
        "            class_images = []\n",
        "\n",
        "            for img_path in sub_folder_path.iterdir():\n",
        "                image = load_img(img_path)\n",
        "                image_array = img_to_array(image) # ing to array\n",
        "\n",
        "                images.append(image_array)\n",
        "                labels.append(class_name)\n",
        "                class_images.append(image_array)\n",
        "\n",
        "            class_dict[class_name] = np.array(class_images)\n",
        "\n",
        "    unique_labels = np.unique(labels)\n",
        "\n",
        "    return [[np.array(images), np.array(labels)], class_dict, unique_labels]\n"
      ]
    },
    {
      "cell_type": "markdown",
      "metadata": {
        "id": "15eMGgAHtC_M"
      },
      "source": [
        "# **1.1) What is the size of your dataset? Is there a separate batch for train, test, and validation, or do you need to do it manually?**"
      ]
    },
    {
      "cell_type": "code",
      "execution_count": 51,
      "metadata": {
        "id": "IiSerHQ5maXg"
      },
      "outputs": [],
      "source": [
        "# loading the train and test data as numpy array and giving label to the train data\n",
        "\n",
        "X_train_org, Y_train_org = load_images(train_path)[0]\n",
        "X_test, Y_test = load_images(test_path)[0]\n"
      ]
    },
    {
      "cell_type": "code",
      "execution_count": 52,
      "metadata": {
        "colab": {
          "base_uri": "https://localhost:8080/"
        },
        "id": "o2D4ExOSaV5K",
        "outputId": "f2f24c9e-ae33-42ee-f598-26892fec24dc"
      },
      "outputs": [
        {
          "data": {
            "text/plain": [
              "((2155, 64, 64, 3), (2155,))"
            ]
          },
          "execution_count": 52,
          "metadata": {},
          "output_type": "execute_result"
        }
      ],
      "source": [
        "X_train_org.shape,  Y_train_org.shape"
      ]
    },
    {
      "cell_type": "code",
      "execution_count": 53,
      "metadata": {
        "colab": {
          "base_uri": "https://localhost:8080/"
        },
        "id": "qAEPf4akac4K",
        "outputId": "ec653954-e3a1-47df-ec9a-6968878ea5eb"
      },
      "outputs": [
        {
          "data": {
            "text/plain": [
              "((255, 64, 64, 3), (255,))"
            ]
          },
          "execution_count": 53,
          "metadata": {},
          "output_type": "execute_result"
        }
      ],
      "source": [
        "X_test.shape, Y_test.shape"
      ]
    },
    {
      "cell_type": "code",
      "execution_count": 54,
      "metadata": {
        "colab": {
          "base_uri": "https://localhost:8080/"
        },
        "id": "0yNpjpOsC8Bb",
        "outputId": "9fc88e30-e026-4346-e631-bb700628e9e4"
      },
      "outputs": [
        {
          "name": "stdout",
          "output_type": "stream",
          "text": [
            "There are 2410 samples in the Dataset.\n"
          ]
        }
      ],
      "source": [
        "print(f\"There are {X_train_org.shape[0] + X_test.shape[0]} samples in the Dataset.\")"
      ]
    },
    {
      "cell_type": "markdown",
      "metadata": {
        "id": "YkgaX7vdyl8a"
      },
      "source": [
        "* There is seperate branch for train and test data but there is no vaidation data. So, we have to make the validation data manually."
      ]
    },
    {
      "cell_type": "markdown",
      "metadata": {
        "id": "V5GJEkOrrNkn"
      },
      "source": [
        "#  **1.2)What are the different classes in your dataset?**"
      ]
    },
    {
      "cell_type": "code",
      "execution_count": 55,
      "metadata": {
        "colab": {
          "base_uri": "https://localhost:8080/"
        },
        "id": "wv2oo8uGQM-e",
        "outputId": "b4b7c896-1b6b-4c96-9f34-2667696b7af7"
      },
      "outputs": [
        {
          "data": {
            "text/plain": [
              "array(['bear', 'boa-constrictor', 'bullfrog', 'golden-retriever',\n",
              "       'goldfish'], dtype='<U16')"
            ]
          },
          "execution_count": 55,
          "metadata": {},
          "output_type": "execute_result"
        }
      ],
      "source": [
        "labels = load_images(train_path)[2]\n",
        "labels"
      ]
    },
    {
      "cell_type": "markdown",
      "metadata": {
        "id": "vznKjTDby5e6"
      },
      "source": [
        "# **2. What is the distribution of your dataset? the number of samples per class? Show it using a plot. Is the distribution balanced or unbalanced?**"
      ]
    },
    {
      "cell_type": "markdown",
      "metadata": {
        "id": "7qoZiNbCzFuC"
      },
      "source": [
        "## Ploting the number of samples per class:"
      ]
    },
    {
      "cell_type": "code",
      "execution_count": 56,
      "metadata": {
        "colab": {
          "base_uri": "https://localhost:8080/"
        },
        "id": "OP_0v7fSbccK",
        "outputId": "b3fbc5e2-d521-427f-e29f-688e4faa15b4"
      },
      "outputs": [
        {
          "name": "stdout",
          "output_type": "stream",
          "text": [
            "'golden-retriever' class has 500 images.\n",
            "'bullfrog' class has 250 images.\n",
            "'goldfish' class has 500 images.\n",
            "'boa-constrictor' class has 400 images.\n",
            "'bear' class has 505 images.\n"
          ]
        }
      ],
      "source": [
        "for key, values in load_images(train_path)[1].items():\n",
        "    num_values = len(values)\n",
        "    print(f\"'{key}' class has {num_values} images.\")"
      ]
    },
    {
      "cell_type": "code",
      "execution_count": 57,
      "metadata": {
        "colab": {
          "base_uri": "https://localhost:8080/",
          "height": 564
        },
        "id": "R8FDgGdZzR4E",
        "outputId": "c281c753-2a5b-43e2-b1b7-be36249fe866"
      },
      "outputs": [
        {
          "data": {
            "image/png": "[encoded data removed]",
            "text/plain": [
              "<Figure size 1000x600 with 1 Axes>"
            ]
          },
          "metadata": {},
          "output_type": "display_data"
        }
      ],
      "source": [
        "import matplotlib.pyplot as plt\n",
        "\n",
        "def plot_samples_per_class(class_dict):\n",
        "    class_names = list(class_dict.keys())\n",
        "    num_samples = [len(class_dict[class_name]) for class_name in class_names]\n",
        "\n",
        "    plt.figure(figsize=(10, 6))\n",
        "    plt.bar(class_names, num_samples, color='skyblue')\n",
        "    plt.xlabel('Class Name')\n",
        "    plt.ylabel('Number of Samples')\n",
        "    plt.title('Number of Samples per Class')\n",
        "    plt.show()\n",
        "\n",
        "plot_samples_per_class(load_images(train_path)[1])\n"
      ]
    },
    {
      "cell_type": "markdown",
      "metadata": {
        "id": "oKDPZZqx0TFa"
      },
      "source": [
        "# 3. Which technique are you going to use to tackle your unbalanced dataset and why?"
      ]
    },
    {
      "cell_type": "markdown",
      "metadata": {
        "id": "LXPd8Chg0c7q"
      },
      "source": [
        "# Part 4 & 5"
      ]
    },
    {
      "cell_type": "markdown",
      "metadata": {
        "id": "uj2Abbco0uGi"
      },
      "source": [
        "Evaluation function"
      ]
    },
    {
      "cell_type": "code",
      "execution_count": 58,
      "metadata": {
        "id": "Odji58akdW3D"
      },
      "outputs": [],
      "source": [
        "def evaluate_model(y_true, y_pred, labels):\n",
        "    accuracy = accuracy_score(y_true, y_pred)\n",
        "\n",
        "    cm = confusion_matrix(y_true, y_pred)\n",
        "\n",
        "    # Initializing arrays to hold the per-class metrics\n",
        "    sensitivities = []\n",
        "    specificities = []\n",
        "    ppvs = []\n",
        "    npvs = []\n",
        "\n",
        "    # Calculate metrics for each class\n",
        "    for class_index in range(len(labels)):\n",
        "        tp = cm[class_index, class_index]\n",
        "        fn = np.sum(cm[class_index, :]) - tp\n",
        "        fp = np.sum(cm[:, class_index]) - tp\n",
        "        tn = np.sum(cm) - (fp + fn + tp)\n",
        "\n",
        "        sensitivity = tp / (tp + fn) if (tp + fn) != 0 else 0\n",
        "        specificity = tn / (tn + fp) if (tn + fp) != 0 else 0\n",
        "        ppv = tp / (tp + fp) if (tp + fp) != 0 else 0\n",
        "        npv = tn / (tn + fn) if (tn + fn) != 0 else 0\n",
        "\n",
        "        sensitivities.append(sensitivity)\n",
        "        specificities.append(specificity)\n",
        "        ppvs.append(ppv)\n",
        "        npvs.append(npv)\n",
        "\n",
        "    # Calculating averages\n",
        "    sensitivity = np.mean(sensitivities)\n",
        "    specificity = np.mean(specificities)\n",
        "    ppv = np.mean(ppvs)\n",
        "    npv = np.mean(npvs)\n",
        "\n",
        "    # Generating classification report\n",
        "    class_report = classification_report(y_true, y_pred, target_names=labels)\n",
        "\n",
        "\n",
        "    return([accuracy, sensitivity, specificity, ppv, npv, cm, class_report])"
      ]
    },
    {
      "cell_type": "markdown",
      "metadata": {
        "id": "B7dgfRvndY6Z"
      },
      "source": [
        "## Logistic Regression"
      ]
    },
    {
      "cell_type": "code",
      "execution_count": 59,
      "metadata": {
        "id": "S8COkbEPmdmw"
      },
      "outputs": [],
      "source": [
        "# seperating some data from train for validation\n",
        "\n",
        "X_train, X_validation, Y_train, Y_validation = train_test_split(X_train_org, Y_train_org, test_size=0.2, random_state=428)"
      ]
    },
    {
      "cell_type": "code",
      "execution_count": 60,
      "metadata": {
        "colab": {
          "base_uri": "https://localhost:8080/"
        },
        "id": "FjcQsIijCuB9",
        "outputId": "f49a9bd4-04ad-4bc8-a450-ac298bd46af5"
      },
      "outputs": [
        {
          "data": {
            "text/plain": [
              "((1724, 64, 64, 3), (431, 64, 64, 3))"
            ]
          },
          "execution_count": 60,
          "metadata": {},
          "output_type": "execute_result"
        }
      ],
      "source": [
        "X_train.shape, X_validation.shape"
      ]
    },
    {
      "cell_type": "code",
      "execution_count": 62,
      "metadata": {
        "id": "uI5ayMOCnfpt"
      },
      "outputs": [],
      "source": [
        "# flattening the each data\n",
        "\n",
        "X_train_org_flatten = X_train_org.reshape(X_train_org.shape[0], -1)\n",
        "X_train_org_flatten = preprocessing.minmax_scale(X_train_org_flatten)\n",
        "\n",
        "X_train_flatten = X_train.reshape(X_train.shape[0], -1)\n",
        "X_train_flatten = preprocessing.minmax_scale(X_train_flatten)\n",
        "\n",
        "X_validation_flatten = X_validation.reshape(X_validation.shape[0], -1)\n",
        "X_validation_flatten = preprocessing.minmax_scale(X_validation_flatten)\n",
        "\n",
        "X_test_flatten = X_test.reshape(X_test.shape[0], -1)\n",
        "X_test_flatten = preprocessing.minmax_scale(X_test_flatten)"
      ]
    },
    {
      "cell_type": "code",
      "execution_count": 63,
      "metadata": {
        "colab": {
          "base_uri": "https://localhost:8080/"
        },
        "id": "CP2ghWOMWmwM",
        "outputId": "bdeea0d2-c04d-4900-81d8-12da3d5d32bf"
      },
      "outputs": [
        {
          "data": {
            "text/plain": [
              "((1724, 64, 64, 3), (1724, 12288))"
            ]
          },
          "execution_count": 63,
          "metadata": {},
          "output_type": "execute_result"
        }
      ],
      "source": [
        "X_train.shape, X_train_flatten.shape"
      ]
    },
    {
      "cell_type": "code",
      "execution_count": 64,
      "metadata": {
        "colab": {
          "base_uri": "https://localhost:8080/",
          "height": 213
        },
        "id": "TqukxI_HnyE9",
        "outputId": "a0de0f60-60f7-4b23-edc4-9c162f8fcd2d"
      },
      "outputs": [
        {
          "name": "stderr",
          "output_type": "stream",
          "text": [
            "/usr/local/lib/python3.10/dist-packages/sklearn/linear_model/_logistic.py:458: ConvergenceWarning: lbfgs failed to converge (status=1):\n",
            "STOP: TOTAL NO. of ITERATIONS REACHED LIMIT.\n",
            "\n",
            "Increase the number of iterations (max_iter) or scale the data as shown in:\n",
            "    https://scikit-learn.org/stable/modules/preprocessing.html\n",
            "Please also refer to the documentation for alternative solver options:\n",
            "    https://scikit-learn.org/stable/modules/linear_model.html#logistic-regression\n",
            "  n_iter_i = _check_optimize_result(\n"
          ]
        },
        {
          "data": {
            "text/html": [
              "<style>#sk-container-id-3 {color: black;background-color: white;}#sk-container-id-3 pre{padding: 0;}#sk-container-id-3 div.sk-toggleable {background-color: white;}#sk-container-id-3 label.sk-toggleable__label {cursor: pointer;display: block;width: 100%;margin-bottom: 0;padding: 0.3em;box-sizing: border-box;text-align: center;}#sk-container-id-3 label.sk-toggleable__label-arrow:before {content: \"▸\";float: left;margin-right: 0.25em;color: #696969;}#sk-container-id-3 label.sk-toggleable__label-arrow:hover:before {color: black;}#sk-container-id-3 div.sk-estimator:hover label.sk-toggleable__label-arrow:before {color: black;}#sk-container-id-3 div.sk-toggleable__content {max-height: 0;max-width: 0;overflow: hidden;text-align: left;background-color: #f0f8ff;}#sk-container-id-3 div.sk-toggleable__content pre {margin: 0.2em;color: black;border-radius: 0.25em;background-color: #f0f8ff;}#sk-container-id-3 input.sk-toggleable__control:checked~div.sk-toggleable__content {max-height: 200px;max-width: 100%;overflow: auto;}#sk-container-id-3 input.sk-toggleable__control:checked~label.sk-toggleable__label-arrow:before {content: \"▾\";}#sk-container-id-3 div.sk-estimator input.sk-toggleable__control:checked~label.sk-toggleable__label {background-color: #d4ebff;}#sk-container-id-3 div.sk-label input.sk-toggleable__control:checked~label.sk-toggleable__label {background-color: #d4ebff;}#sk-container-id-3 input.sk-hidden--visually {border: 0;clip: rect(1px 1px 1px 1px);clip: rect(1px, 1px, 1px, 1px);height: 1px;margin: -1px;overflow: hidden;padding: 0;position: absolute;width: 1px;}#sk-container-id-3 div.sk-estimator {font-family: monospace;background-color: #f0f8ff;border: 1px dotted black;border-radius: 0.25em;box-sizing: border-box;margin-bottom: 0.5em;}#sk-container-id-3 div.sk-estimator:hover {background-color: #d4ebff;}#sk-container-id-3 div.sk-parallel-item::after {content: \"\";width: 100%;border-bottom: 1px solid gray;flex-grow: 1;}#sk-container-id-3 div.sk-label:hover label.sk-toggleable__label {background-color: #d4ebff;}#sk-container-id-3 div.sk-serial::before {content: \"\";position: absolute;border-left: 1px solid gray;box-sizing: border-box;top: 0;bottom: 0;left: 50%;z-index: 0;}#sk-container-id-3 div.sk-serial {display: flex;flex-direction: column;align-items: center;background-color: white;padding-right: 0.2em;padding-left: 0.2em;position: relative;}#sk-container-id-3 div.sk-item {position: relative;z-index: 1;}#sk-container-id-3 div.sk-parallel {display: flex;align-items: stretch;justify-content: center;background-color: white;position: relative;}#sk-container-id-3 div.sk-item::before, #sk-container-id-3 div.sk-parallel-item::before {content: \"\";position: absolute;border-left: 1px solid gray;box-sizing: border-box;top: 0;bottom: 0;left: 50%;z-index: -1;}#sk-container-id-3 div.sk-parallel-item {display: flex;flex-direction: column;z-index: 1;position: relative;background-color: white;}#sk-container-id-3 div.sk-parallel-item:first-child::after {align-self: flex-end;width: 50%;}#sk-container-id-3 div.sk-parallel-item:last-child::after {align-self: flex-start;width: 50%;}#sk-container-id-3 div.sk-parallel-item:only-child::after {width: 0;}#sk-container-id-3 div.sk-dashed-wrapped {border: 1px dashed gray;margin: 0 0.4em 0.5em 0.4em;box-sizing: border-box;padding-bottom: 0.4em;background-color: white;}#sk-container-id-3 div.sk-label label {font-family: monospace;font-weight: bold;display: inline-block;line-height: 1.2em;}#sk-container-id-3 div.sk-label-container {text-align: center;}#sk-container-id-3 div.sk-container {/* jupyter's `normalize.less` sets `[hidden] { display: none; }` but bootstrap.min.css set `[hidden] { display: none !important; }` so we also need the `!important` here to be able to override the default hidden behavior on the sphinx rendered scikit-learn.org. See: https://github.com/scikit-learn/scikit-learn/issues/21755 */display: inline-block !important;position: relative;}#sk-container-id-3 div.sk-text-repr-fallback {display: none;}</style><div id=\"sk-container-id-3\" class=\"sk-top-container\"><div class=\"sk-text-repr-fallback\"><pre>LogisticRegression(C=1, max_iter=300)</pre><b>In a Jupyter environment, please rerun this cell to show the HTML representation or trust the notebook. <br />On GitHub, the HTML representation is unable to render, please try loading this page with nbviewer.org.</b></div><div class=\"sk-container\" hidden><div class=\"sk-item\"><div class=\"sk-estimator sk-toggleable\"><input class=\"sk-toggleable__control sk-hidden--visually\" id=\"sk-estimator-id-3\" type=\"checkbox\" checked><label for=\"sk-estimator-id-3\" class=\"sk-toggleable__label sk-toggleable__label-arrow\">LogisticRegression</label><div class=\"sk-toggleable__content\"><pre>LogisticRegression(C=1, max_iter=300)</pre></div></div></div></div></div>"
            ],
            "text/plain": [
              "LogisticRegression(C=1, max_iter=300)"
            ]
          },
          "execution_count": 64,
          "metadata": {},
          "output_type": "execute_result"
        }
      ],
      "source": [
        "# Training logistic regressing model\n",
        "\n",
        "LR = LogisticRegression(C=1, fit_intercept=True, solver='lbfgs', max_iter=300)\n",
        "LR.fit(X_train_flatten, Y_train)"
      ]
    },
    {
      "cell_type": "code",
      "execution_count": 65,
      "metadata": {
        "colab": {
          "base_uri": "https://localhost:8080/"
        },
        "id": "kGUIUnPKoBS9",
        "outputId": "98d98797-8a78-4ed1-e3ba-e60686aaf238"
      },
      "outputs": [
        {
          "name": "stdout",
          "output_type": "stream",
          "text": [
            "Validation Set Accuracy: 50.35%\n"
          ]
        }
      ],
      "source": [
        "# Evaluating the model in train set & validation set\n",
        "\n",
        "validation_prediction = LR.predict(X_validation_flatten)\n",
        "validation_accuracy = accuracy_score(Y_validation, validation_prediction)\n",
        "\n",
        "print(f\"Validation Set Accuracy: {validation_accuracy * 100:.2f}%\")"
      ]
    },
    {
      "cell_type": "code",
      "execution_count": 66,
      "metadata": {
        "colab": {
          "base_uri": "https://localhost:8080/"
        },
        "id": "8w8Ar1KiEGMz",
        "outputId": "b601890b-503e-43a3-a342-4ce22755447d"
      },
      "outputs": [
        {
          "name": "stdout",
          "output_type": "stream",
          "text": [
            "## Training Set Metrics:\n",
            "\n",
            "Accuracy: 100.00%\n",
            "Sensitivity: 1.0\n",
            "Specificity: 1.0\n",
            "PPV: 1.0\n",
            "NPV: 1.0\n",
            "Confusion Matrix:\n",
            "[[419   0   0   0   0]\n",
            " [  0 324   0   0   0]\n",
            " [  0   0 200   0   0]\n",
            " [  0   0   0 395   0]\n",
            " [  0   0   0   0 386]]\n",
            "Classification Report:\n",
            "                  precision    recall  f1-score   support\n",
            "\n",
            "            bear       1.00      1.00      1.00       419\n",
            " boa-constrictor       1.00      1.00      1.00       324\n",
            "        bullfrog       1.00      1.00      1.00       200\n",
            "golden-retriever       1.00      1.00      1.00       395\n",
            "        goldfish       1.00      1.00      1.00       386\n",
            "\n",
            "        accuracy                           1.00      1724\n",
            "       macro avg       1.00      1.00      1.00      1724\n",
            "    weighted avg       1.00      1.00      1.00      1724\n",
            "\n",
            "\n",
            "\n",
            "\n",
            "## Test Set Metrics:\n",
            "\n",
            "Accuracy: 38.82%\n",
            "Sensitivity: 0.3825454545454545\n",
            "Specificity: 0.84709756097561\n",
            "PPV: 0.3552659717877109\n",
            "NPV: 0.8498072304189443\n",
            "Confusion Matrix:\n",
            "[[27  5  3 12  3]\n",
            " [ 8 11  6 14 11]\n",
            " [15 14  4 14  3]\n",
            " [ 9  6  3 20 12]\n",
            " [ 4  1  4  9 37]]\n",
            "Classification Report:\n",
            "                  precision    recall  f1-score   support\n",
            "\n",
            "            bear       0.43      0.54      0.48        50\n",
            " boa-constrictor       0.30      0.22      0.25        50\n",
            "        bullfrog       0.20      0.08      0.11        50\n",
            "golden-retriever       0.29      0.40      0.34        50\n",
            "        goldfish       0.56      0.67      0.61        55\n",
            "\n",
            "        accuracy                           0.39       255\n",
            "       macro avg       0.36      0.38      0.36       255\n",
            "    weighted avg       0.36      0.39      0.36       255\n",
            "\n"
          ]
        }
      ],
      "source": [
        "# Predictions\n",
        "y_pred_train = LR.predict(X_train_flatten)\n",
        "y_pred_test = LR.predict(X_test_flatten)\n",
        "\n",
        "# Evaluating on Train data\n",
        "train_eval_LR = evaluate_model(Y_train, y_pred_train, labels)\n",
        "print(\"## Training Set Metrics:\")\n",
        "print()\n",
        "print(f\"Accuracy: {train_eval_LR[0] * 100:.2f}%\\n\"\n",
        "      f\"Sensitivity: {train_eval_LR[1]}\\n\"\n",
        "      f\"Specificity: {train_eval_LR[2]}\\n\"\n",
        "      f\"PPV: {train_eval_LR[3]}\\n\"\n",
        "      f\"NPV: {train_eval_LR[4]}\\n\"\n",
        "      f\"Confusion Matrix:\\n{train_eval_LR[5]}\\n\"\n",
        "      f\"Classification Report:\\n{train_eval_LR[6]}\")\n",
        "\n",
        "print()\n",
        "print()\n",
        "\n",
        "# Evaluating on Test data\n",
        "test_eval_LR = evaluate_model(Y_test, y_pred_test, labels)\n",
        "print(\"\\n## Test Set Metrics:\")\n",
        "print()\n",
        "print(f\"Accuracy: {test_eval_LR[0] * 100:.2f}%\\n\"\n",
        "      f\"Sensitivity: {test_eval_LR[1]}\\n\"\n",
        "      f\"Specificity: {test_eval_LR[2]}\\n\"\n",
        "      f\"PPV: {test_eval_LR[3]}\\n\"\n",
        "      f\"NPV: {test_eval_LR[4]}\\n\"\n",
        "      f\"Confusion Matrix:\\n{test_eval_LR[5]}\\n\"\n",
        "      f\"Classification Report:\\n{test_eval_LR[6]}\")"
      ]
    },
    {
      "cell_type": "code",
      "execution_count": 18,
      "metadata": {
        "id": "Yy9BbGqKS-9O"
      },
      "outputs": [],
      "source": [
        "#lossTr, accTr = LR.evaluate(Y_train, y_pred_train)"
      ]
    },
    {
      "cell_type": "code",
      "execution_count": 19,
      "metadata": {
        "id": "7g9mfJwvTK0J"
      },
      "outputs": [],
      "source": [
        "#lossTe, accTe = LR.evaluate(Y_test, y_pred_test)"
      ]
    },
    {
      "cell_type": "code",
      "execution_count": 19,
      "metadata": {
        "id": "AUH9zJSgTHuU"
      },
      "outputs": [],
      "source": []
    },
    {
      "cell_type": "markdown",
      "metadata": {
        "id": "wuTPaKR6fVJt"
      },
      "source": [
        "## Neural Networks"
      ]
    },
    {
      "cell_type": "code",
      "execution_count": 20,
      "metadata": {
        "id": "2hQtGtxOfi4r"
      },
      "outputs": [],
      "source": [
        "import tensorflow as tf\n",
        "from tensorflow.keras.models import Sequential\n",
        "from tensorflow.keras.layers import Input, Dense\n",
        "from tensorflow.keras.utils import to_categorical, plot_model\n",
        "import matplotlib.pyplot as plt"
      ]
    },
    {
      "cell_type": "code",
      "execution_count": 21,
      "metadata": {
        "colab": {
          "base_uri": "https://localhost:8080/"
        },
        "id": "Y5DVc3hRMKXt",
        "outputId": "4c17d401-f210-4a08-f84e-ae70d01eab29"
      },
      "outputs": [
        {
          "data": {
            "text/plain": [
              "(2155, 64, 64, 3)"
            ]
          },
          "execution_count": 21,
          "metadata": {},
          "output_type": "execute_result"
        }
      ],
      "source": [
        "X_train_org.shape"
      ]
    },
    {
      "cell_type": "code",
      "execution_count": 22,
      "metadata": {
        "colab": {
          "base_uri": "https://localhost:8080/"
        },
        "id": "IWEIblCilzA0",
        "outputId": "1b485e35-6aef-4b0c-f122-d330a6c78590"
      },
      "outputs": [
        {
          "data": {
            "text/plain": [
              "(2155, 12288)"
            ]
          },
          "execution_count": 22,
          "metadata": {},
          "output_type": "execute_result"
        }
      ],
      "source": [
        "X_train_org_flatten.shape"
      ]
    },
    {
      "cell_type": "code",
      "execution_count": 23,
      "metadata": {
        "colab": {
          "base_uri": "https://localhost:8080/"
        },
        "id": "zZYsa6tyrEoM",
        "outputId": "71c09d18-fda9-4db6-b845-0e9809ab4c68"
      },
      "outputs": [
        {
          "data": {
            "text/plain": [
              "5"
            ]
          },
          "execution_count": 23,
          "metadata": {},
          "output_type": "execute_result"
        }
      ],
      "source": [
        "number_of_classes = len(labels)\n",
        "number_of_classes"
      ]
    },
    {
      "cell_type": "code",
      "execution_count": 24,
      "metadata": {
        "colab": {
          "base_uri": "https://localhost:8080/"
        },
        "id": "K3F_xwum3Zx7",
        "outputId": "ceebc2dd-10a8-4d83-d211-8ddb95bebb3b"
      },
      "outputs": [
        {
          "data": {
            "text/plain": [
              "array(['bear', 'boa-constrictor', 'bullfrog', 'golden-retriever',\n",
              "       'goldfish'], dtype='<U16')"
            ]
          },
          "execution_count": 24,
          "metadata": {},
          "output_type": "execute_result"
        }
      ],
      "source": [
        "labels"
      ]
    },
    {
      "cell_type": "code",
      "execution_count": 25,
      "metadata": {
        "colab": {
          "base_uri": "https://localhost:8080/"
        },
        "id": "wFty6Qla5I70",
        "outputId": "8208f155-f74c-4b7b-f616-7e9174cda4df"
      },
      "outputs": [
        {
          "name": "stdout",
          "output_type": "stream",
          "text": [
            "{'bear': 0, 'boa-constrictor': 1, 'bullfrog': 2, 'golden-retriever': 3, 'goldfish': 4}\n"
          ]
        }
      ],
      "source": [
        "# to be able to encode we must have numarical data\n",
        "\n",
        "labels_dict = {label: idx for idx, label in enumerate(labels)}\n",
        "\n",
        "print(labels_dict)"
      ]
    },
    {
      "cell_type": "code",
      "execution_count": 26,
      "metadata": {
        "id": "mhVILcCX5gZb"
      },
      "outputs": [],
      "source": [
        "def convert_labels_to_numbers(labels, labels_dict):\n",
        "  return [labels_dict[label] for label in labels]"
      ]
    },
    {
      "cell_type": "code",
      "execution_count": 27,
      "metadata": {
        "colab": {
          "base_uri": "https://localhost:8080/"
        },
        "id": "QKG1lg5q5wjU",
        "outputId": "096f838d-be59-493b-8430-20a6d901abee"
      },
      "outputs": [
        {
          "name": "stdout",
          "output_type": "stream",
          "text": [
            "['golden-retriever' 'golden-retriever' 'golden-retriever'\n",
            " 'golden-retriever' 'golden-retriever']\n",
            "[3, 3, 3, 3, 3]\n"
          ]
        }
      ],
      "source": [
        "Y_train_org_in_numbers = convert_labels_to_numbers(Y_train_org, labels_dict)\n",
        "Y_test_in_numbers = convert_labels_to_numbers(Y_test, labels_dict)\n",
        "Y_validation_in_numbers = convert_labels_to_numbers(Y_validation, labels_dict)\n",
        "\n",
        "print(Y_train_org[:5])\n",
        "print(Y_train_org_in_numbers[:5])\n",
        "\n",
        "# Y_train = original_labels --> ['golden-retriever', 'bear', 'boa-constrictor', 'bullfrog', 'goldfish']\n",
        "# Y_train_in_numbers = numbers --> [0,1,2,3,4]\n",
        "# Y_train_NN = encoded"
      ]
    },
    {
      "cell_type": "code",
      "execution_count": 28,
      "metadata": {
        "colab": {
          "base_uri": "https://localhost:8080/"
        },
        "id": "USvQpackqx7X",
        "outputId": "8c461f34-b5e6-402d-a923-c6e78d719c9d"
      },
      "outputs": [
        {
          "name": "stdout",
          "output_type": "stream",
          "text": [
            "shape of Y_train_org = (2155,)\n",
            "shape of Y_test = (255,)\n",
            "\n",
            "shape of Y_train_org_NN = (2155, 5)\n",
            "shape of Y_test_NN = (255, 5)\n"
          ]
        }
      ],
      "source": [
        "print(\"shape of Y_train_org =\", Y_train_org.shape)\n",
        "print(\"shape of Y_test =\", Y_test.shape)\n",
        "print()\n",
        "\n",
        "Y_train_org_NN = to_categorical(Y_train_org_in_numbers, num_classes = number_of_classes)\n",
        "Y_test_NN = to_categorical(Y_test_in_numbers, num_classes = number_of_classes)\n",
        "Y_validation_NN = to_categorical(Y_validation_in_numbers, num_classes = number_of_classes)\n",
        "\n",
        "print(\"shape of Y_train_org_NN =\", Y_train_org_NN.shape)\n",
        "print(\"shape of Y_test_NN =\", Y_test_NN.shape)"
      ]
    },
    {
      "cell_type": "code",
      "execution_count": 29,
      "metadata": {
        "colab": {
          "base_uri": "https://localhost:8080/"
        },
        "id": "2ePyNukismIk",
        "outputId": "c13ab7ca-b2ee-4c44-b59f-a5720229c7f3"
      },
      "outputs": [
        {
          "data": {
            "text/plain": [
              "array([[0., 0., 0., 1., 0.],\n",
              "       [0., 0., 0., 1., 0.],\n",
              "       [0., 0., 0., 1., 0.],\n",
              "       [0., 0., 0., 1., 0.],\n",
              "       [0., 0., 0., 1., 0.]], dtype=float32)"
            ]
          },
          "execution_count": 29,
          "metadata": {},
          "output_type": "execute_result"
        }
      ],
      "source": [
        "Y_train_org_NN[:5]"
      ]
    },
    {
      "cell_type": "code",
      "execution_count": 30,
      "metadata": {
        "id": "gVVuiw_qfM-G"
      },
      "outputs": [],
      "source": [
        "# Model Building\n",
        "\n",
        "NN = Sequential()\n",
        "NN.add( Input(shape = (12288,)) ) # input layer\n",
        "NN.add( Dense(4000, activation='sigmoid') ) #hidden layer 1\n",
        "NN.add( Dense(1000, activation='sigmoid') ) #hidden layer 2   ## activation sigmoid\n",
        "NN.add( Dense(50, activation='sigmoid') ) #hidden layer 3\n",
        "NN.add( Dense(number_of_classes, activation='softmax') ) # output layer, activation softmax"
      ]
    },
    {
      "cell_type": "code",
      "execution_count": 31,
      "metadata": {
        "id": "pdBCqrxSs9fI"
      },
      "outputs": [],
      "source": [
        "NN.compile(optimizer='adam',\n",
        "              loss='categorical_crossentropy',\n",
        "              metrics=['accuracy'])"
      ]
    },
    {
      "cell_type": "code",
      "execution_count": 32,
      "metadata": {
        "colab": {
          "base_uri": "https://localhost:8080/",
          "height": 686
        },
        "id": "6GbmPoFcs-jn",
        "outputId": "640ddd93-7bbb-4144-d60a-39146531f066"
      },
      "outputs": [
        {
          "data": {
            "image/png": "[encoded data removed]",
            "text/plain": [
              "<IPython.core.display.Image object>"
            ]
          },
          "execution_count": 32,
          "metadata": {},
          "output_type": "execute_result"
        }
      ],
      "source": [
        "plot_model(NN, show_shapes=True, show_dtype=True, show_layer_names=True)"
      ]
    },
    {
      "cell_type": "code",
      "execution_count": 33,
      "metadata": {
        "colab": {
          "base_uri": "https://localhost:8080/"
        },
        "id": "ZLyM3swvopjj",
        "outputId": "70f43792-a275-4138-dd77-b02d76463dc8"
      },
      "outputs": [
        {
          "name": "stdout",
          "output_type": "stream",
          "text": [
            "Epoch 1/100\n",
            "68/68 [==============================] - 11s 69ms/step - loss: 1.6054 - accuracy: 0.2306 - val_loss: 1.6256 - val_accuracy: 0.2157\n",
            "Epoch 2/100\n",
            "68/68 [==============================] - 4s 66ms/step - loss: 1.5668 - accuracy: 0.2961 - val_loss: 1.6202 - val_accuracy: 0.2824\n",
            "Epoch 3/100\n",
            "68/68 [==============================] - 1s 19ms/step - loss: 1.5288 - accuracy: 0.3406 - val_loss: 1.6080 - val_accuracy: 0.2745\n",
            "Epoch 4/100\n",
            "68/68 [==============================] - 1s 19ms/step - loss: 1.5009 - accuracy: 0.3420 - val_loss: 1.6003 - val_accuracy: 0.2157\n",
            "Epoch 5/100\n",
            "68/68 [==============================] - 4s 60ms/step - loss: 1.4425 - accuracy: 0.3912 - val_loss: 1.4960 - val_accuracy: 0.3451\n",
            "Epoch 6/100\n",
            "68/68 [==============================] - 1s 18ms/step - loss: 1.4356 - accuracy: 0.3694 - val_loss: 1.5102 - val_accuracy: 0.3451\n",
            "Epoch 7/100\n",
            "68/68 [==============================] - 4s 64ms/step - loss: 1.3840 - accuracy: 0.4009 - val_loss: 1.4588 - val_accuracy: 0.3490\n",
            "Epoch 8/100\n",
            "68/68 [==============================] - 1s 19ms/step - loss: 1.3911 - accuracy: 0.4000 - val_loss: 1.5034 - val_accuracy: 0.3412\n",
            "Epoch 9/100\n",
            "68/68 [==============================] - 5s 70ms/step - loss: 1.3732 - accuracy: 0.4153 - val_loss: 1.4631 - val_accuracy: 0.3529\n",
            "Epoch 10/100\n",
            "68/68 [==============================] - 7s 102ms/step - loss: 1.3746 - accuracy: 0.4135 - val_loss: 1.4444 - val_accuracy: 0.3804\n",
            "Epoch 11/100\n",
            "68/68 [==============================] - 1s 17ms/step - loss: 1.3708 - accuracy: 0.4000 - val_loss: 1.5348 - val_accuracy: 0.3176\n",
            "Epoch 12/100\n",
            "68/68 [==============================] - 1s 18ms/step - loss: 1.3415 - accuracy: 0.4162 - val_loss: 1.4679 - val_accuracy: 0.3490\n",
            "Epoch 13/100\n",
            "68/68 [==============================] - 1s 20ms/step - loss: 1.3676 - accuracy: 0.3842 - val_loss: 1.4404 - val_accuracy: 0.3490\n",
            "Epoch 14/100\n",
            "68/68 [==============================] - 1s 21ms/step - loss: 1.3500 - accuracy: 0.4019 - val_loss: 1.4448 - val_accuracy: 0.3529\n",
            "Epoch 15/100\n",
            "68/68 [==============================] - 1s 20ms/step - loss: 1.3332 - accuracy: 0.4195 - val_loss: 1.4501 - val_accuracy: 0.3137\n",
            "Epoch 16/100\n",
            "68/68 [==============================] - 1s 21ms/step - loss: 1.3602 - accuracy: 0.4056 - val_loss: 1.6591 - val_accuracy: 0.2549\n",
            "Epoch 17/100\n",
            "68/68 [==============================] - 1s 18ms/step - loss: 1.3811 - accuracy: 0.3903 - val_loss: 1.4573 - val_accuracy: 0.3608\n",
            "Epoch 18/100\n",
            "68/68 [==============================] - 1s 18ms/step - loss: 1.3259 - accuracy: 0.4237 - val_loss: 1.4667 - val_accuracy: 0.3490\n",
            "Epoch 19/100\n",
            "68/68 [==============================] - 1s 18ms/step - loss: 1.3198 - accuracy: 0.4394 - val_loss: 1.4526 - val_accuracy: 0.3216\n",
            "Epoch 20/100\n",
            "68/68 [==============================] - 1s 18ms/step - loss: 1.3164 - accuracy: 0.4292 - val_loss: 1.4680 - val_accuracy: 0.3608\n",
            "Epoch 21/100\n",
            "68/68 [==============================] - 1s 17ms/step - loss: 1.3529 - accuracy: 0.3940 - val_loss: 1.6747 - val_accuracy: 0.2275\n",
            "Epoch 22/100\n",
            "68/68 [==============================] - 1s 17ms/step - loss: 1.3396 - accuracy: 0.4116 - val_loss: 1.4161 - val_accuracy: 0.3725\n",
            "Epoch 23/100\n",
            "68/68 [==============================] - 5s 68ms/step - loss: 1.3284 - accuracy: 0.4200 - val_loss: 1.4157 - val_accuracy: 0.3843\n",
            "Epoch 24/100\n",
            "68/68 [==============================] - 1s 21ms/step - loss: 1.3366 - accuracy: 0.4056 - val_loss: 1.4221 - val_accuracy: 0.3569\n",
            "Epoch 25/100\n",
            "68/68 [==============================] - 1s 21ms/step - loss: 1.3204 - accuracy: 0.4172 - val_loss: 1.4374 - val_accuracy: 0.3647\n",
            "Epoch 26/100\n",
            "68/68 [==============================] - 1s 18ms/step - loss: 1.2999 - accuracy: 0.4394 - val_loss: 1.4470 - val_accuracy: 0.3765\n",
            "Epoch 27/100\n",
            "68/68 [==============================] - 1s 18ms/step - loss: 1.3282 - accuracy: 0.4237 - val_loss: 1.4067 - val_accuracy: 0.3725\n",
            "Epoch 28/100\n",
            "68/68 [==============================] - 1s 17ms/step - loss: 1.3204 - accuracy: 0.4422 - val_loss: 1.4538 - val_accuracy: 0.3373\n",
            "Epoch 29/100\n",
            "68/68 [==============================] - 1s 18ms/step - loss: 1.3044 - accuracy: 0.4394 - val_loss: 1.4468 - val_accuracy: 0.3765\n",
            "Epoch 30/100\n",
            "68/68 [==============================] - 1s 18ms/step - loss: 1.3537 - accuracy: 0.4097 - val_loss: 1.4367 - val_accuracy: 0.3725\n",
            "Epoch 31/100\n",
            "68/68 [==============================] - 1s 18ms/step - loss: 1.3231 - accuracy: 0.4213 - val_loss: 1.4384 - val_accuracy: 0.3608\n",
            "Epoch 32/100\n",
            "68/68 [==============================] - 1s 18ms/step - loss: 1.3268 - accuracy: 0.4385 - val_loss: 1.4416 - val_accuracy: 0.3608\n",
            "Epoch 33/100\n",
            "68/68 [==============================] - 1s 18ms/step - loss: 1.3342 - accuracy: 0.4241 - val_loss: 1.4368 - val_accuracy: 0.3490\n",
            "Epoch 34/100\n",
            "68/68 [==============================] - 5s 68ms/step - loss: 1.3076 - accuracy: 0.4473 - val_loss: 1.4162 - val_accuracy: 0.4000\n",
            "Epoch 35/100\n",
            "68/68 [==============================] - 1s 21ms/step - loss: 1.3146 - accuracy: 0.4204 - val_loss: 1.4276 - val_accuracy: 0.3490\n",
            "Epoch 36/100\n",
            "68/68 [==============================] - 1s 18ms/step - loss: 1.3239 - accuracy: 0.4260 - val_loss: 1.4310 - val_accuracy: 0.3608\n",
            "Epoch 37/100\n",
            "68/68 [==============================] - 1s 18ms/step - loss: 1.2798 - accuracy: 0.4548 - val_loss: 1.4187 - val_accuracy: 0.3686\n",
            "Epoch 38/100\n",
            "68/68 [==============================] - 1s 18ms/step - loss: 1.3428 - accuracy: 0.4200 - val_loss: 1.4769 - val_accuracy: 0.3569\n",
            "Epoch 39/100\n",
            "68/68 [==============================] - 1s 18ms/step - loss: 1.3603 - accuracy: 0.3879 - val_loss: 1.4411 - val_accuracy: 0.3529\n",
            "Epoch 40/100\n",
            "68/68 [==============================] - 1s 18ms/step - loss: 1.2953 - accuracy: 0.4432 - val_loss: 1.4442 - val_accuracy: 0.3490\n",
            "Epoch 41/100\n",
            "68/68 [==============================] - 1s 17ms/step - loss: 1.3216 - accuracy: 0.4158 - val_loss: 1.5095 - val_accuracy: 0.3569\n",
            "Epoch 42/100\n",
            "68/68 [==============================] - 1s 18ms/step - loss: 1.3244 - accuracy: 0.4292 - val_loss: 1.4301 - val_accuracy: 0.3608\n",
            "Epoch 43/100\n",
            "68/68 [==============================] - 1s 19ms/step - loss: 1.2905 - accuracy: 0.4501 - val_loss: 1.3976 - val_accuracy: 0.3804\n",
            "Epoch 44/100\n",
            "68/68 [==============================] - 1s 21ms/step - loss: 1.3014 - accuracy: 0.4362 - val_loss: 1.5391 - val_accuracy: 0.3255\n",
            "Epoch 45/100\n",
            "68/68 [==============================] - 1s 20ms/step - loss: 1.2830 - accuracy: 0.4506 - val_loss: 1.4181 - val_accuracy: 0.3843\n",
            "Epoch 46/100\n",
            "68/68 [==============================] - 1s 19ms/step - loss: 1.2708 - accuracy: 0.4673 - val_loss: 1.4435 - val_accuracy: 0.3412\n",
            "Epoch 47/100\n",
            "68/68 [==============================] - 1s 18ms/step - loss: 1.2820 - accuracy: 0.4473 - val_loss: 1.4048 - val_accuracy: 0.3608\n",
            "Epoch 48/100\n",
            "68/68 [==============================] - 1s 17ms/step - loss: 1.2954 - accuracy: 0.4422 - val_loss: 1.5550 - val_accuracy: 0.3647\n",
            "Epoch 49/100\n",
            "68/68 [==============================] - 1s 18ms/step - loss: 1.2791 - accuracy: 0.4478 - val_loss: 1.4288 - val_accuracy: 0.3569\n",
            "Epoch 50/100\n",
            "68/68 [==============================] - 1s 18ms/step - loss: 1.2471 - accuracy: 0.4914 - val_loss: 1.8849 - val_accuracy: 0.2549\n",
            "Epoch 51/100\n",
            "68/68 [==============================] - 1s 17ms/step - loss: 1.3051 - accuracy: 0.4418 - val_loss: 1.4201 - val_accuracy: 0.3961\n",
            "Epoch 52/100\n",
            "68/68 [==============================] - 1s 18ms/step - loss: 1.2703 - accuracy: 0.4626 - val_loss: 1.4635 - val_accuracy: 0.3255\n",
            "Epoch 53/100\n",
            "68/68 [==============================] - 1s 18ms/step - loss: 1.2466 - accuracy: 0.4770 - val_loss: 1.4142 - val_accuracy: 0.3882\n",
            "Epoch 54/100\n",
            "68/68 [==============================] - 1s 17ms/step - loss: 1.2875 - accuracy: 0.4534 - val_loss: 1.4439 - val_accuracy: 0.3686\n",
            "Epoch 55/100\n",
            "68/68 [==============================] - 1s 19ms/step - loss: 1.3117 - accuracy: 0.4339 - val_loss: 1.4231 - val_accuracy: 0.3686\n",
            "Epoch 56/100\n",
            "68/68 [==============================] - 1s 21ms/step - loss: 1.2483 - accuracy: 0.4715 - val_loss: 1.4125 - val_accuracy: 0.3843\n",
            "Epoch 57/100\n",
            "68/68 [==============================] - 1s 21ms/step - loss: 1.2759 - accuracy: 0.4543 - val_loss: 1.4294 - val_accuracy: 0.3804\n",
            "Epoch 58/100\n",
            "68/68 [==============================] - 1s 22ms/step - loss: 1.2477 - accuracy: 0.4659 - val_loss: 1.4550 - val_accuracy: 0.3804\n",
            "Epoch 59/100\n",
            "68/68 [==============================] - 1s 17ms/step - loss: 1.2484 - accuracy: 0.4733 - val_loss: 1.4385 - val_accuracy: 0.3882\n",
            "Epoch 60/100\n",
            "68/68 [==============================] - 1s 17ms/step - loss: 1.2938 - accuracy: 0.4469 - val_loss: 1.4589 - val_accuracy: 0.3412\n",
            "Epoch 61/100\n",
            "68/68 [==============================] - 1s 17ms/step - loss: 1.3045 - accuracy: 0.4237 - val_loss: 1.5106 - val_accuracy: 0.3176\n",
            "Epoch 62/100\n",
            "68/68 [==============================] - 1s 17ms/step - loss: 1.2396 - accuracy: 0.4863 - val_loss: 1.4713 - val_accuracy: 0.3882\n",
            "Epoch 63/100\n",
            "68/68 [==============================] - 1s 17ms/step - loss: 1.2155 - accuracy: 0.4984 - val_loss: 1.4281 - val_accuracy: 0.3961\n",
            "Epoch 64/100\n",
            "68/68 [==============================] - 1s 17ms/step - loss: 1.2990 - accuracy: 0.4353 - val_loss: 1.4231 - val_accuracy: 0.3686\n",
            "Epoch 65/100\n",
            "68/68 [==============================] - 1s 17ms/step - loss: 1.2604 - accuracy: 0.4594 - val_loss: 1.5825 - val_accuracy: 0.3608\n",
            "Epoch 66/100\n",
            "68/68 [==============================] - 1s 17ms/step - loss: 1.2731 - accuracy: 0.4668 - val_loss: 1.5429 - val_accuracy: 0.3137\n",
            "Epoch 67/100\n",
            "68/68 [==============================] - 1s 18ms/step - loss: 1.2446 - accuracy: 0.4729 - val_loss: 1.4905 - val_accuracy: 0.3765\n",
            "Epoch 68/100\n",
            "68/68 [==============================] - 1s 20ms/step - loss: 1.2493 - accuracy: 0.4849 - val_loss: 1.4797 - val_accuracy: 0.3216\n",
            "Epoch 69/100\n",
            "68/68 [==============================] - 1s 19ms/step - loss: 1.2399 - accuracy: 0.4696 - val_loss: 1.5023 - val_accuracy: 0.3647\n",
            "Epoch 70/100\n",
            "68/68 [==============================] - 1s 19ms/step - loss: 1.2903 - accuracy: 0.4557 - val_loss: 1.4973 - val_accuracy: 0.3451\n",
            "Epoch 71/100\n",
            "68/68 [==============================] - 1s 17ms/step - loss: 1.2113 - accuracy: 0.4993 - val_loss: 1.4125 - val_accuracy: 0.3922\n",
            "Epoch 72/100\n",
            "68/68 [==============================] - 1s 17ms/step - loss: 1.2499 - accuracy: 0.4803 - val_loss: 1.4661 - val_accuracy: 0.3725\n",
            "Epoch 73/100\n",
            "68/68 [==============================] - 1s 17ms/step - loss: 1.2143 - accuracy: 0.5016 - val_loss: 1.5045 - val_accuracy: 0.3843\n",
            "Epoch 74/100\n",
            "68/68 [==============================] - 1s 17ms/step - loss: 1.1942 - accuracy: 0.5169 - val_loss: 1.4878 - val_accuracy: 0.4000\n",
            "Epoch 75/100\n",
            "68/68 [==============================] - 4s 65ms/step - loss: 1.2153 - accuracy: 0.4858 - val_loss: 1.4081 - val_accuracy: 0.4196\n",
            "Epoch 76/100\n",
            "68/68 [==============================] - 1s 18ms/step - loss: 1.1919 - accuracy: 0.5058 - val_loss: 1.5229 - val_accuracy: 0.4078\n",
            "Epoch 77/100\n",
            "68/68 [==============================] - 1s 19ms/step - loss: 1.2182 - accuracy: 0.4845 - val_loss: 1.5958 - val_accuracy: 0.3137\n",
            "Epoch 78/100\n",
            "68/68 [==============================] - 1s 19ms/step - loss: 1.2273 - accuracy: 0.5035 - val_loss: 1.4200 - val_accuracy: 0.3647\n",
            "Epoch 79/100\n",
            "68/68 [==============================] - 1s 19ms/step - loss: 1.1746 - accuracy: 0.5179 - val_loss: 1.6063 - val_accuracy: 0.2824\n",
            "Epoch 80/100\n",
            "68/68 [==============================] - 1s 18ms/step - loss: 1.1958 - accuracy: 0.5002 - val_loss: 1.4718 - val_accuracy: 0.3843\n",
            "Epoch 81/100\n",
            "68/68 [==============================] - 1s 18ms/step - loss: 1.2211 - accuracy: 0.4933 - val_loss: 1.4011 - val_accuracy: 0.3765\n",
            "Epoch 82/100\n",
            "68/68 [==============================] - 1s 17ms/step - loss: 1.1983 - accuracy: 0.5044 - val_loss: 1.4235 - val_accuracy: 0.3961\n",
            "Epoch 83/100\n",
            "68/68 [==============================] - 4s 62ms/step - loss: 1.1796 - accuracy: 0.5169 - val_loss: 1.4179 - val_accuracy: 0.4235\n",
            "Epoch 84/100\n",
            "68/68 [==============================] - 1s 19ms/step - loss: 1.1928 - accuracy: 0.5044 - val_loss: 1.7738 - val_accuracy: 0.2196\n",
            "Epoch 85/100\n",
            "68/68 [==============================] - 1s 18ms/step - loss: 1.2429 - accuracy: 0.4863 - val_loss: 1.4775 - val_accuracy: 0.3882\n",
            "Epoch 86/100\n",
            "68/68 [==============================] - 1s 20ms/step - loss: 1.1695 - accuracy: 0.5183 - val_loss: 1.4356 - val_accuracy: 0.4157\n",
            "Epoch 87/100\n",
            "68/68 [==============================] - 1s 21ms/step - loss: 1.1602 - accuracy: 0.5341 - val_loss: 1.3674 - val_accuracy: 0.4235\n",
            "Epoch 88/100\n",
            "68/68 [==============================] - 1s 21ms/step - loss: 1.1875 - accuracy: 0.5151 - val_loss: 1.3869 - val_accuracy: 0.4118\n",
            "Epoch 89/100\n",
            "68/68 [==============================] - 1s 20ms/step - loss: 1.1594 - accuracy: 0.5369 - val_loss: 1.3736 - val_accuracy: 0.3922\n",
            "Epoch 90/100\n",
            "68/68 [==============================] - 1s 18ms/step - loss: 1.1401 - accuracy: 0.5425 - val_loss: 1.3970 - val_accuracy: 0.4039\n",
            "Epoch 91/100\n",
            "68/68 [==============================] - 7s 104ms/step - loss: 1.1391 - accuracy: 0.5401 - val_loss: 1.3827 - val_accuracy: 0.4392\n",
            "Epoch 92/100\n",
            "68/68 [==============================] - 1s 19ms/step - loss: 1.1563 - accuracy: 0.5327 - val_loss: 1.4170 - val_accuracy: 0.3843\n",
            "Epoch 93/100\n",
            "68/68 [==============================] - 1s 20ms/step - loss: 1.1808 - accuracy: 0.5026 - val_loss: 1.3973 - val_accuracy: 0.4314\n",
            "Epoch 94/100\n",
            "68/68 [==============================] - 1s 21ms/step - loss: 1.1899 - accuracy: 0.5049 - val_loss: 1.6019 - val_accuracy: 0.3490\n",
            "Epoch 95/100\n",
            "68/68 [==============================] - 1s 21ms/step - loss: 1.1268 - accuracy: 0.5439 - val_loss: 1.4342 - val_accuracy: 0.4118\n",
            "Epoch 96/100\n",
            "68/68 [==============================] - 1s 19ms/step - loss: 1.1322 - accuracy: 0.5462 - val_loss: 1.3805 - val_accuracy: 0.4275\n",
            "Epoch 97/100\n",
            "68/68 [==============================] - 1s 17ms/step - loss: 1.1594 - accuracy: 0.5220 - val_loss: 1.4396 - val_accuracy: 0.3961\n",
            "Epoch 98/100\n",
            "68/68 [==============================] - 1s 18ms/step - loss: 1.1731 - accuracy: 0.5271 - val_loss: 1.4137 - val_accuracy: 0.4235\n",
            "Epoch 99/100\n",
            "68/68 [==============================] - 1s 18ms/step - loss: 1.1222 - accuracy: 0.5457 - val_loss: 1.5780 - val_accuracy: 0.3569\n",
            "Epoch 100/100\n",
            "68/68 [==============================] - 1s 20ms/step - loss: 1.2919 - accuracy: 0.4510 - val_loss: 1.3892 - val_accuracy: 0.4157\n"
          ]
        },
        {
          "data": {
            "text/plain": [
              "<tensorflow.python.checkpoint.checkpoint.CheckpointLoadStatus at 0x7f5b839b7eb0>"
            ]
          },
          "execution_count": 33,
          "metadata": {},
          "output_type": "execute_result"
        }
      ],
      "source": [
        "# saving the best weights\n",
        "\n",
        "EPOCHS = 100\n",
        "checkpoint_filepath = '/content/drive/MyDrive/1. 428_project/model_checkpoint/tmp/checkpoint'\n",
        "model_checkpoint_callback = tf.keras.callbacks.ModelCheckpoint(\n",
        "    filepath=checkpoint_filepath,\n",
        "    save_weights_only=True,\n",
        "    monitor='val_accuracy',\n",
        "    mode='max',\n",
        "    save_best_only=True)\n",
        "\n",
        "NN.fit(X_train_org_flatten, Y_train_org_NN, validation_data=(X_test_flatten, Y_test_NN),  verbose=1, epochs=EPOCHS, callbacks=[model_checkpoint_callback])\n",
        "\n",
        "NN.load_weights(checkpoint_filepath)"
      ]
    },
    {
      "cell_type": "code",
      "execution_count": 34,
      "metadata": {
        "id": "AwrtGv7V_qGE"
      },
      "outputs": [],
      "source": [
        "def map_predictions_to_strings(predictions, label_list):\n",
        "    mapped_labels = [label_list[np.argmax(prediction)] for prediction in predictions]\n",
        "    return mapped_labels"
      ]
    },
    {
      "cell_type": "code",
      "execution_count": 35,
      "metadata": {
        "colab": {
          "base_uri": "https://localhost:8080/"
        },
        "id": "Ig-kKTc6qFhM",
        "outputId": "f0b0844b-ec7f-47de-ad81-063923852d5b"
      },
      "outputs": [
        {
          "name": "stdout",
          "output_type": "stream",
          "text": [
            "68/68 [==============================] - 1s 5ms/step\n",
            "8/8 [==============================] - 0s 4ms/step\n",
            "## Training Set Metrics in NN:\n",
            "\n",
            "Accuracy: 56.29%\n",
            "Sensitivity: 0.48348514851485147\n",
            "Specificity: 0.8860053098965486\n",
            "PPV: 0.37792308608723924\n",
            "NPV: 0.897867605089288\n",
            "Confusion Matrix:\n",
            "[[433   0   0  72   0]\n",
            " [131   0   0 268   1]\n",
            " [162   0   0  87   1]\n",
            " [119   0   0 367  14]\n",
            " [ 19   0   0  68 413]]\n",
            "Classification Report:\n",
            "                  precision    recall  f1-score   support\n",
            "\n",
            "            bear       0.50      0.86      0.63       505\n",
            " boa-constrictor       0.00      0.00      0.00       400\n",
            "        bullfrog       0.00      0.00      0.00       250\n",
            "golden-retriever       0.43      0.73      0.54       500\n",
            "        goldfish       0.96      0.83      0.89       500\n",
            "\n",
            "        accuracy                           0.56      2155\n",
            "       macro avg       0.38      0.48      0.41      2155\n",
            "    weighted avg       0.44      0.56      0.48      2155\n",
            "\n",
            "\n",
            "\n",
            "\n",
            "## Test Set Metrics in NN:\n",
            "\n",
            "Accuracy: 43.92%\n",
            "Sensitivity: 0.43454545454545457\n",
            "Specificity: 0.8602682926829269\n",
            "PPV: 0.3046356084883851\n",
            "NPV: 0.8710722566538578\n",
            "Confusion Matrix:\n",
            "[[37  0  0 12  1]\n",
            " [20  0  0 24  6]\n",
            " [35  0  0 15  0]\n",
            " [10  0  0 38  2]\n",
            " [ 6  0  0 12 37]]\n",
            "Classification Report:\n",
            "                  precision    recall  f1-score   support\n",
            "\n",
            "            bear       0.34      0.74      0.47        50\n",
            " boa-constrictor       0.00      0.00      0.00        50\n",
            "        bullfrog       0.00      0.00      0.00        50\n",
            "golden-retriever       0.38      0.76      0.50        50\n",
            "        goldfish       0.80      0.67      0.73        55\n",
            "\n",
            "        accuracy                           0.44       255\n",
            "       macro avg       0.30      0.43      0.34       255\n",
            "    weighted avg       0.31      0.44      0.35       255\n",
            "\n"
          ]
        },
        {
          "name": "stderr",
          "output_type": "stream",
          "text": [
            "/usr/local/lib/python3.10/dist-packages/sklearn/metrics/_classification.py:1344: UndefinedMetricWarning: Precision and F-score are ill-defined and being set to 0.0 in labels with no predicted samples. Use `zero_division` parameter to control this behavior.\n",
            "  _warn_prf(average, modifier, msg_start, len(result))\n",
            "/usr/local/lib/python3.10/dist-packages/sklearn/metrics/_classification.py:1344: UndefinedMetricWarning: Precision and F-score are ill-defined and being set to 0.0 in labels with no predicted samples. Use `zero_division` parameter to control this behavior.\n",
            "  _warn_prf(average, modifier, msg_start, len(result))\n",
            "/usr/local/lib/python3.10/dist-packages/sklearn/metrics/_classification.py:1344: UndefinedMetricWarning: Precision and F-score are ill-defined and being set to 0.0 in labels with no predicted samples. Use `zero_division` parameter to control this behavior.\n",
            "  _warn_prf(average, modifier, msg_start, len(result))\n",
            "/usr/local/lib/python3.10/dist-packages/sklearn/metrics/_classification.py:1344: UndefinedMetricWarning: Precision and F-score are ill-defined and being set to 0.0 in labels with no predicted samples. Use `zero_division` parameter to control this behavior.\n",
            "  _warn_prf(average, modifier, msg_start, len(result))\n",
            "/usr/local/lib/python3.10/dist-packages/sklearn/metrics/_classification.py:1344: UndefinedMetricWarning: Precision and F-score are ill-defined and being set to 0.0 in labels with no predicted samples. Use `zero_division` parameter to control this behavior.\n",
            "  _warn_prf(average, modifier, msg_start, len(result))\n",
            "/usr/local/lib/python3.10/dist-packages/sklearn/metrics/_classification.py:1344: UndefinedMetricWarning: Precision and F-score are ill-defined and being set to 0.0 in labels with no predicted samples. Use `zero_division` parameter to control this behavior.\n",
            "  _warn_prf(average, modifier, msg_start, len(result))\n"
          ]
        }
      ],
      "source": [
        "# Predictions\n",
        "Y_pred_train_org_NN = NN.predict(X_train_org_flatten)\n",
        "Y_pred_test_NN = NN.predict(X_test_flatten)\n",
        "\n",
        "# mapping back to original form\n",
        "Y_pred_train_org_mapped = map_predictions_to_strings(Y_pred_train_org_NN, labels)\n",
        "Y_pred_test_mapped = map_predictions_to_strings(Y_pred_test_NN, labels)\n",
        "\n",
        "\n",
        "# Evaluating on Train data\n",
        "train_eval_NN = evaluate_model(Y_train_org, Y_pred_train_org_mapped, labels)\n",
        "print(\"## Training Set Metrics in NN:\")\n",
        "print()\n",
        "print(f\"Accuracy: {train_eval_NN[0] * 100:.2f}%\\n\"\n",
        "      f\"Sensitivity: {train_eval_NN[1]}\\n\"\n",
        "      f\"Specificity: {train_eval_NN[2]}\\n\"\n",
        "      f\"PPV: {train_eval_NN[3]}\\n\"\n",
        "      f\"NPV: {train_eval_NN[4]}\\n\"\n",
        "      f\"Confusion Matrix:\\n{train_eval_NN[5]}\\n\"\n",
        "      f\"Classification Report:\\n{train_eval_NN[6]}\")\n",
        "\n",
        "print()\n",
        "print()\n",
        "\n",
        "# Evaluating on Test data\n",
        "test_eval_NN = evaluate_model(Y_test, Y_pred_test_mapped, labels)\n",
        "print(\"\\n## Test Set Metrics in NN:\")\n",
        "print()\n",
        "print(f\"Accuracy: {test_eval_NN[0] * 100:.2f}%\\n\"\n",
        "      f\"Sensitivity: {test_eval_NN[1]}\\n\"\n",
        "      f\"Specificity: {test_eval_NN[2]}\\n\"\n",
        "      f\"PPV: {test_eval_NN[3]}\\n\"\n",
        "      f\"NPV: {test_eval_NN[4]}\\n\"\n",
        "      f\"Confusion Matrix:\\n{test_eval_NN[5]}\\n\"\n",
        "      f\"Classification Report:\\n{test_eval_NN[6]}\")"
      ]
    },
    {
      "cell_type": "markdown",
      "metadata": {
        "id": "Vf2bWCXJ1DIF"
      },
      "source": [
        "## Comparison between Logistic Regression & Neural Network"
      ]
    },
    {
      "cell_type": "code",
      "execution_count": 67,
      "metadata": {
        "colab": {
          "base_uri": "https://localhost:8080/",
          "height": 564
        },
        "id": "Ade7yA6k1mQi",
        "outputId": "baa2f692-fd6f-409c-a695-c6a7c3591887"
      },
      "outputs": [
        {
          "data": {
            "image/png": "[encoded data removed]",
            "text/plain": [
              "<Figure size 1000x600 with 1 Axes>"
            ]
          },
          "metadata": {},
          "output_type": "display_data"
        }
      ],
      "source": [
        "def compare_models_performance(lr_metrics, nn_metrics):\n",
        "    metrics_labels = ['Accuracy', 'Sensitivity', 'Specificity', 'PPV', 'NPV']\n",
        "    num_metrics = len(metrics_labels)\n",
        "\n",
        "    lr_values = np.array(lr_metrics).T\n",
        "    nn_values = np.array(nn_metrics).T\n",
        "\n",
        "    # Set up figure and axis\n",
        "    fig, ax = plt.subplots(figsize=(10, 6))\n",
        "\n",
        "    # Bar width\n",
        "    bar_width = 0.35\n",
        "\n",
        "    # Set positions for bar groups\n",
        "    index = np.arange(num_metrics)\n",
        "\n",
        "    # Plot bars for Linear Regression\n",
        "    bar1 = ax.bar(index, lr_values[0], bar_width, label='Linear Regression', color='b')\n",
        "\n",
        "    # Plot bars for Neural Network\n",
        "    bar2 = ax.bar(index + bar_width, nn_values[0], bar_width, label='Neural Network', color='r')\n",
        "\n",
        "\n",
        "    ax.set_xlabel('Metrics')\n",
        "    ax.set_ylabel('Values')\n",
        "    ax.set_title('Comparison of Model Performance Metrics')\n",
        "    ax.set_xticks(index + bar_width / 2)\n",
        "    ax.set_xticklabels(metrics_labels)\n",
        "    ax.legend()\n",
        "\n",
        "\n",
        "    plt.show()\n",
        "\n",
        "compare_models_performance(test_eval_LR[:5], test_eval_NN[:5])\n"
      ]
    }
  ],
  "metadata": {
    "accelerator": "GPU",
    "colab": {
      "gpuType": "T4",
      "provenance": []
    },
    "kernelspec": {
      "display_name": "Python 3",
      "name": "python3"
    },
    "language_info": {
      "name": "python"
    }
  },
  "nbformat": 4,
  "nbformat_minor": 0
}
