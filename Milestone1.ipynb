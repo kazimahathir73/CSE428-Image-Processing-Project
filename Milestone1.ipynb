{
  "cells": [
    {
      "cell_type": "markdown",
      "metadata": {
        "id": "2TTdwUq6flk8"
      },
      "source": [
        "**Library and Dataset Import**"
      ]
    },
    {
      "cell_type": "code",
      "execution_count": 1,
      "metadata": {
        "id": "0KJXtTVTJeX8"
      },
      "outputs": [],
      "source": [
        "import tensorflow as tf\n",
        "from tensorflow import keras\n",
        "import numpy as np\n",
        "from sklearn.metrics import confusion_matrix, accuracy_score, precision_score, recall_score, f1_score\n",
        "from tensorflow.keras.preprocessing.image import ImageDataGenerator"
      ]
    },
    {
      "cell_type": "code",
      "execution_count": 5,
      "metadata": {
        "colab": {
          "base_uri": "https://localhost:8080/",
          "height": 425
        },
        "id": "aZPI7lZLc38V",
        "outputId": "14fcffc9-1151-4c9f-e191-3889b405be46"
      },
      "outputs": [
        {
          "name": "stdout",
          "output_type": "stream",
          "text": [
            "Found 2150 images belonging to 5 classes.\n",
            "Found 250 images belonging to 5 classes.\n"
          ]
        }
      ],
      "source": [
        "img_width, img_height = 128, 128\n",
        "batch_size = 32\n",
        "\n",
        "train_datagen = ImageDataGenerator(rescale=1./255, shear_range=0.2, zoom_range=0.2, horizontal_flip=True)\n",
        "test_datagen = ImageDataGenerator(rescale=1./255)\n",
        "\n",
        "train_generator = train_datagen.flow_from_directory(\n",
        "    \"D:\\\\CSE BRACU\\\\CSE428\\\\CSE428-Image-Processing-Project\\\\Dataset_Group1\\\\train\",\n",
        "    target_size=(img_width, img_height),\n",
        "    batch_size=batch_size,\n",
        "    class_mode='categorical'\n",
        ")\n",
        "\n",
        "test_generator = test_datagen.flow_from_directory(\n",
        "    \"D:\\\\CSE BRACU\\\\CSE428\\\\CSE428-Image-Processing-Project\\\\Dataset_Group1\\\\test\",\n",
        "    target_size=(img_width, img_height),\n",
        "    batch_size=batch_size,\n",
        "    class_mode='categorical'\n",
        ")"
      ]
    },
    {
      "cell_type": "code",
      "execution_count": 7,
      "metadata": {
        "id": "Z-VsQZBoc3_G"
      },
      "outputs": [
        {
          "name": "stdout",
          "output_type": "stream",
          "text": [
            "<keras.src.preprocessing.image.DirectoryIterator object at 0x00000254FC8D1ED0>\n"
          ]
        }
      ],
      "source": [
        "print(train_generator)"
      ]
    },
    {
      "cell_type": "code",
      "execution_count": null,
      "metadata": {
        "id": "xWOXfmt1c4B1"
      },
      "outputs": [],
      "source": []
    },
    {
      "cell_type": "code",
      "execution_count": null,
      "metadata": {
        "id": "pOh8Ywctc4EU"
      },
      "outputs": [],
      "source": []
    },
    {
      "cell_type": "markdown",
      "metadata": {
        "id": "P6QoCFp9fuoU"
      },
      "source": [
        "**Data preprocessing**"
      ]
    },
    {
      "cell_type": "code",
      "execution_count": null,
      "metadata": {
        "id": "doI3T4yic4Gz"
      },
      "outputs": [],
      "source": []
    },
    {
      "cell_type": "code",
      "execution_count": null,
      "metadata": {
        "id": "0hYM0hhnc4Jg"
      },
      "outputs": [],
      "source": []
    },
    {
      "cell_type": "code",
      "execution_count": null,
      "metadata": {
        "id": "Rju1l_vFc4MF"
      },
      "outputs": [],
      "source": []
    },
    {
      "cell_type": "markdown",
      "metadata": {
        "id": "JDQQSov0c5Gu"
      },
      "source": [
        "**Multi Layer Perceptron** (NN model)"
      ]
    },
    {
      "cell_type": "code",
      "execution_count": null,
      "metadata": {
        "id": "bzK4cvOYc4Ol"
      },
      "outputs": [],
      "source": [
        "model = keras.Sequential()\n",
        "model.add(keras.layers.Input(shape=(,)))                # Input layer\n",
        "model.add(keras.layers.Dense(100, activation='relu'))\n",
        "model.add(keras.layers.Dense(70, activation='relu'))\n",
        "model.add(keras.layers.Dense(40, activation='relu'))\n",
        "model.add(keras.layers.Dense(, activation='softmax'))   # Output layer\n",
        "\n",
        "model.compile(optimizer='sgd', loss='categorical_crossentropy', metrics=['accuracy'])"
      ]
    },
    {
      "cell_type": "code",
      "execution_count": null,
      "metadata": {
        "id": "gOmDm0z6oWg2"
      },
      "outputs": [],
      "source": [
        "plot_model(model, show_shapes=True, show_dtype=True, show_layer_names=True)"
      ]
    },
    {
      "cell_type": "code",
      "execution_count": null,
      "metadata": {
        "id": "sKTM2eM2oY9m"
      },
      "outputs": [],
      "source": [
        "model.summary()"
      ]
    },
    {
      "cell_type": "code",
      "execution_count": null,
      "metadata": {
        "id": "qhEM0nsmoeru"
      },
      "outputs": [],
      "source": [
        "model.fit(X_train, y_train, epochs=30, verbose=1)"
      ]
    },
    {
      "cell_type": "markdown",
      "metadata": {
        "id": "wHKcY53U1Tf9"
      },
      "source": [
        "**Tuning hyperparameters**"
      ]
    },
    {
      "cell_type": "code",
      "execution_count": null,
      "metadata": {
        "id": "ZnckZAsI1a4H"
      },
      "outputs": [],
      "source": []
    },
    {
      "cell_type": "code",
      "execution_count": null,
      "metadata": {
        "id": "ApccaDVs1ba8"
      },
      "outputs": [],
      "source": []
    },
    {
      "cell_type": "markdown",
      "metadata": {
        "id": "aR6RGs_S1rsy"
      },
      "source": [
        "**Best Performing Model**"
      ]
    },
    {
      "cell_type": "code",
      "execution_count": null,
      "metadata": {
        "id": "--Pnwu3F1uXo"
      },
      "outputs": [],
      "source": []
    },
    {
      "cell_type": "code",
      "execution_count": null,
      "metadata": {
        "id": "77CXoQmI1u4m"
      },
      "outputs": [],
      "source": []
    },
    {
      "cell_type": "markdown",
      "metadata": {
        "id": "htlLWY8GtNkW"
      },
      "source": [
        "**Error**"
      ]
    },
    {
      "cell_type": "code",
      "execution_count": null,
      "metadata": {
        "id": "T8XVHurupWY6"
      },
      "outputs": [],
      "source": [
        "y_pred = model.predict(X_test)\n",
        "y_pred = np.argmax(y_pred, axis=1)\n",
        "y_actual = np.argmax(y_test, axis=1)\n",
        "accuracy = np.mean(y_actual == y_pred)*100                             # Accuracy\n",
        "confusion = confusion_matrix(y_actual, y_pred)                         # Confusion matrix\n",
        "sensitivity = recall_score(y_actual, y_pred)                           # Sensitivity\n",
        "specificity = confusion[0, 0] / (confusion[0, 0] + confusion[0, 1])    # Specificity\n",
        "ppv = precision_score(y_actual, y_pred)                                # Positive predictive value (PPV)\n",
        "npv = confusion[1, 1] / (confusion[1, 0] + confusion[1, 1])            # Negative predictive value (NPV)\n",
        "f1 = f1_score(y_actual, y_pred)                                        # F1 score\n",
        "\n",
        "print(\"Accuracy:\", accuracy)\n",
        "print(\"Sensitivity:\", sensitivity)\n",
        "print(\"Specificity:\", specificity)\n",
        "print(\"Positive Predictive Value (PPV):\", ppv)\n",
        "print(\"Negative Predictive Value (NPV):\", npv)\n",
        "print(\"Confusion Matrix:\")\n",
        "print(confusion)\n",
        "print(\"F1 Score:\", f1)"
      ]
    }
  ],
  "metadata": {
    "colab": {
      "provenance": []
    },
    "kernelspec": {
      "display_name": "Python 3",
      "name": "python3"
    },
    "language_info": {
      "codemirror_mode": {
        "name": "ipython",
        "version": 3
      },
      "file_extension": ".py",
      "mimetype": "text/x-python",
      "name": "python",
      "nbconvert_exporter": "python",
      "pygments_lexer": "ipython3",
      "version": "3.11.5"
    }
  },
  "nbformat": 4,
  "nbformat_minor": 0
}
